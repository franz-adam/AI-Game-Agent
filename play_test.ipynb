{
 "cells": [
  {
   "cell_type": "markdown",
   "id": "ddfbab22",
   "metadata": {},
   "source": [
    "# Challenge the machine\n",
    "\n",
    "Play a game of isolation against 3 levels of my AI agents. For all levels, I restricted the 'thinking' period to at most 5 seconds. However, with each level the underlying algorithm changes and the AI agent becomes stronger. Should you be able to defeat Level 3, send me a screenshot and I will share my secret evaluation function with you!\n",
    "\n",
    "1. Click any open field to make the first move.\n",
    "2. Wait at most five seconds for the AI to respond with a move\n",
    "\n",
    "\n",
    "  \n",
    "  ## Good luck!\n",
    "  \n",
    "  ---"
   ]
  },
  {
   "cell_type": "code",
   "execution_count": 4,
   "id": "16ba2af1",
   "metadata": {},
   "outputs": [
    {
     "name": "stdout",
     "output_type": "stream",
     "text": [
      "The autoreload extension is already loaded. To reload it, use:\n",
      "  %reload_ext autoreload\n"
     ]
    }
   ],
   "source": [
    "\"\"\"# Following two lines make sure anything imported from .py scripts͏󠄂͏️͏󠄌͏󠄎͏󠄎͏󠄊͏󠄁 \n",
    "# is automatically reloaded if edited & saved (e.g. local unit tests or players)͏󠄂͏️͏󠄌͏󠄎͏󠄎͏󠄊͏󠄁\n",
    "%load_ext autoreload\n",
    "%autoreload 2\n",
    "from board_viz import ReplayGame, InteractiveGame\n",
    "from isolation import Board\n",
    "from test_players import RandomPlayer\n",
    "import player_submission_tests as tests\n",
    "from test_players import HumanPlayer\"\"\""
   ]
  },
  {
   "cell_type": "code",
   "execution_count": 5,
   "id": "5eb70bbe",
   "metadata": {},
   "outputs": [],
   "source": [
    "\"\"\"import time\n",
    "from isolation import Board\n",
    "import random\"\"\""
   ]
  },
  {
   "cell_type": "code",
   "execution_count": 6,
   "id": "bfd7c123",
   "metadata": {},
   "outputs": [],
   "source": [
    "\"\"\"class OpenMoveEvalFn:\n",
    "    def score(self, game, my_player=None):\n",
    "        player_moves = len(game.get_player_moves(my_player))\n",
    "        opponent_moves = len(game.get_opponent_moves(my_player))\n",
    "\n",
    "        threshold = (player_moves + opponent_moves) / 72\n",
    "        \n",
    "        if threshold < 0.25:\n",
    "            return (player_moves * 2) - opponent_moves\n",
    "        else: \n",
    "            return player_moves - (2 * opponent_moves)\"\"\""
   ]
  },
  {
   "cell_type": "code",
   "execution_count": 7,
   "id": "124be129-c61e-4902-b10c-a725e989279c",
   "metadata": {},
   "outputs": [],
   "source": [
    "\"\"\"class OpenMoveEvalFn1:\n",
    "    def score(self, game, my_player=None):\n",
    "        return len(game.get_player_moves(my_player)) - len(game.get_opponent_moves(my_player))\"\"\""
   ]
  },
  {
   "cell_type": "markdown",
   "id": "d5b62f77-aea3-4a34-b5ef-3c805c43de99",
   "metadata": {},
   "source": [
    "## Level 1\n",
    "### Minimax algorithm with Max Tree Depth = 4"
   ]
  },
  {
   "cell_type": "markdown",
   "id": "fb0d3ef2-fc3c-4aa3-a714-0a796870d60b",
   "metadata": {},
   "source": [
    "---\n",
    "  ## Level 2 \n",
    "  ### AlphaBeta pruning with Max Tree Depth = 6"
   ]
  },
  {
   "cell_type": "markdown",
   "id": "383e1768-dbc5-4f54-9abc-60813637994e",
   "metadata": {},
   "source": [
    "---\n",
    "  ### Level 3\n",
    "  ### Iterative Deepening + Alphabeta pruning + optimized evaluation function"
   ]
  },
  {
   "cell_type": "code",
   "execution_count": null,
   "id": "afd09b47-8ed5-4209-94d1-631a492ea0d0",
   "metadata": {},
   "outputs": [],
   "source": []
  }
 ],
 "metadata": {
  "kernelspec": {
   "display_name": "Python 3 (ipykernel)",
   "language": "python",
   "name": "python3"
  },
  "language_info": {
   "codemirror_mode": {
    "name": "ipython",
    "version": 3
   },
   "file_extension": ".py",
   "mimetype": "text/x-python",
   "name": "python",
   "nbconvert_exporter": "python",
   "pygments_lexer": "ipython3",
   "version": "3.9.19"
  }
 },
 "nbformat": 4,
 "nbformat_minor": 5
}
