{
 "cells": [
  {
   "cell_type": "markdown",
   "id": "ddfbab22",
   "metadata": {},
   "source": [
    "# Challenge the machine\n",
    "\n",
    "Play a game of isolation against 3 levels of my AI agents. For all levels, I restricted the 'thinking' period to at most 5 seconds. However, with each level the underlying algorithm changes and the AI agent becomes stronger. Should you be able to defeat Level 3, send me a screenshot and I will share my secret evaluation function with you!\n",
    "\n",
    "1. Click any open field to make the first move.\n",
    "2. Wait at most five seconds for the AI to respond with a move\n",
    "\n",
    "\n",
    "  \n",
    "  ## Good luck!\n",
    "  \n",
    "  ---"
   ]
  },
  {
   "cell_type": "code",
   "execution_count": 4,
   "id": "16ba2af1",
   "metadata": {},
   "outputs": [
    {
     "name": "stdout",
     "output_type": "stream",
     "text": [
      "The autoreload extension is already loaded. To reload it, use:\n",
      "  %reload_ext autoreload\n"
     ]
    }
   ],
   "source": [
    "# Following two lines make sure anything imported from .py scripts͏󠄂͏️͏󠄌͏󠄎͏󠄎͏󠄊͏󠄁 \n",
    "# is automatically reloaded if edited & saved (e.g. local unit tests or players)͏󠄂͏️͏󠄌͏󠄎͏󠄎͏󠄊͏󠄁\n",
    "%load_ext autoreload\n",
    "%autoreload 2\n",
    "import time\n",
    "from board_viz import ReplayGame, InteractiveGame\n",
    "#from isolation import Board\n",
    "#from test_players import RandomPlayer\n",
    "#import player_submission_tests as tests\n",
    "#from test_players import HumanPlayer"
   ]
  },
  {
   "cell_type": "code",
   "execution_count": 6,
   "id": "bfd7c123",
   "metadata": {},
   "outputs": [],
   "source": [
    "class OpenMoveEvalFn:\n",
    "    def score(self, game, my_player=None):\n",
    "        player_moves = len(game.get_player_moves(my_player))\n",
    "        opponent_moves = len(game.get_opponent_moves(my_player))\n",
    "\n",
    "        threshold = (player_moves + opponent_moves) / 72\n",
    "        \n",
    "        if threshold < 0.25:\n",
    "            return (player_moves * 2) - opponent_moves\n",
    "        else: \n",
    "            return player_moves - (2 * opponent_moves)"
   ]
  },
  {
   "cell_type": "code",
   "execution_count": 7,
   "id": "124be129-c61e-4902-b10c-a725e989279c",
   "metadata": {},
   "outputs": [],
   "source": [
    "class OpenMoveEvalFn1:\n",
    "    def score(self, game, my_player=None):\n",
    "        return len(game.get_player_moves(my_player)) - len(game.get_opponent_moves(my_player))"
   ]
  },
  {
   "cell_type": "code",
   "execution_count": 8,
   "id": "5c35946d",
   "metadata": {},
   "outputs": [],
   "source": [
    "class CustomPlayer:\n",
    "\n",
    "    def __init__(self, search_depth=10, eval_fn=OpenMoveEvalFn()):\n",
    "        self.eval_fn = eval_fn\n",
    "        self.search_depth = search_depth\n",
    "    \n",
    "    def move(self, game, time_left):   \n",
    "        # Iterative deepening\n",
    "        max_depth = 30\n",
    "        best_moves = []\n",
    "        for depth in range(1, max_depth + 1):     \n",
    "            best_move, utility = alphabeta(self, game, time_left, depth = depth)\n",
    "            best_moves.append(best_move)\n",
    "    \n",
    "            if best_moves[-1] == (-1,-1):\n",
    "                return best_moves[-2]\n",
    "                \n",
    "        return best_move\n",
    "\n",
    "    def utility(self, game, my_turn):\n",
    "        \n",
    "        return self.eval_fn.score(game, self)"
   ]
  },
  {
   "cell_type": "code",
   "execution_count": 18,
   "id": "b391a251-a586-451e-b6f4-96b83d8be210",
   "metadata": {},
   "outputs": [],
   "source": [
    "class CustomPlayer1:\n",
    "\n",
    "    def __init__(self, search_depth=5, eval_fn=OpenMoveEvalFn1()):\n",
    "        self.eval_fn = eval_fn\n",
    "        self.search_depth = search_depth\n",
    "    \n",
    "    def move(self, game, time_left):\n",
    "        best_move, utility = minimax(self, game, time_left, depth=self.search_depth)\n",
    "        return best_move\n",
    "\n",
    "    def utility(self, game, my_turn):\n",
    "        return self.eval_fn.score(game, self)"
   ]
  },
  {
   "cell_type": "code",
   "execution_count": 1,
   "id": "06148657-2726-4b50-8488-c503d9adbb7e",
   "metadata": {},
   "outputs": [
    {
     "ename": "NameError",
     "evalue": "name 'OpenMoveEvalFn1' is not defined",
     "output_type": "error",
     "traceback": [
      "\u001b[0;31m---------------------------------------------------------------------------\u001b[0m",
      "\u001b[0;31mNameError\u001b[0m                                 Traceback (most recent call last)",
      "Cell \u001b[0;32mIn[1], line 1\u001b[0m\n\u001b[0;32m----> 1\u001b[0m \u001b[38;5;28;01mclass\u001b[39;00m \u001b[38;5;21;01mCustomPlayer2\u001b[39;00m:\n\u001b[1;32m      3\u001b[0m     \u001b[38;5;28;01mdef\u001b[39;00m \u001b[38;5;21m__init__\u001b[39m(\u001b[38;5;28mself\u001b[39m, search_depth\u001b[38;5;241m=\u001b[39m\u001b[38;5;241m5\u001b[39m, eval_fn\u001b[38;5;241m=\u001b[39mOpenMoveEvalFn1()):\n\u001b[1;32m      4\u001b[0m         \u001b[38;5;28mself\u001b[39m\u001b[38;5;241m.\u001b[39meval_fn \u001b[38;5;241m=\u001b[39m eval_fn\n",
      "Cell \u001b[0;32mIn[1], line 3\u001b[0m, in \u001b[0;36mCustomPlayer2\u001b[0;34m()\u001b[0m\n\u001b[1;32m      1\u001b[0m \u001b[38;5;28;01mclass\u001b[39;00m \u001b[38;5;21;01mCustomPlayer2\u001b[39;00m:\n\u001b[0;32m----> 3\u001b[0m     \u001b[38;5;28;01mdef\u001b[39;00m \u001b[38;5;21m__init__\u001b[39m(\u001b[38;5;28mself\u001b[39m, search_depth\u001b[38;5;241m=\u001b[39m\u001b[38;5;241m5\u001b[39m, eval_fn\u001b[38;5;241m=\u001b[39m\u001b[43mOpenMoveEvalFn1\u001b[49m()):\n\u001b[1;32m      4\u001b[0m         \u001b[38;5;28mself\u001b[39m\u001b[38;5;241m.\u001b[39meval_fn \u001b[38;5;241m=\u001b[39m eval_fn\n\u001b[1;32m      5\u001b[0m         \u001b[38;5;28mself\u001b[39m\u001b[38;5;241m.\u001b[39msearch_depth \u001b[38;5;241m=\u001b[39m search_depth\n",
      "\u001b[0;31mNameError\u001b[0m: name 'OpenMoveEvalFn1' is not defined"
     ]
    }
   ],
   "source": [
    "class CustomPlayer2:\n",
    "\n",
    "    def __init__(self, search_depth=5, eval_fn=OpenMoveEvalFn1()):\n",
    "        self.eval_fn = eval_fn\n",
    "        self.search_depth = search_depth\n",
    "    \n",
    "    def move(self, game, time_left):\n",
    "        best_move, utility = alphabeta2(self, game, time_left, depth = self.search_depth)\n",
    "        return best_move\n",
    "\n",
    "    def utility(self, game, my_turn):\n",
    "        return self.eval_fn.score(game, self)"
   ]
  },
  {
   "cell_type": "code",
   "execution_count": 16,
   "id": "5726ec76",
   "metadata": {},
   "outputs": [],
   "source": [
    "def minimax(player, game, time_left, depth, my_turn=True):\n",
    "    #if depth is reached or game is over (e.g., no more active moves for one player)\n",
    "    if depth == 0:\n",
    "        return (None, player.utility(game, my_turn))\n",
    "\n",
    "    if time_left() < 30: #Was 60 at 95pt submission \n",
    "        return game.get_active_moves()[0]\n",
    "        \n",
    "    #Recursive Call\n",
    "    if my_turn:\n",
    "        best_cost = -1000\n",
    "        best_move = None\n",
    "        for move in game.get_active_moves():\n",
    "            _, eval = minimax(player, game.forecast_move(move)[0], time_left, depth - 1, my_turn = False)\n",
    "            if eval > best_cost:\n",
    "                best_cost = eval\n",
    "                best_move = move\n",
    "        return (best_move, best_cost)\n",
    "        \n",
    "    else: \n",
    "        best_cost = 1000\n",
    "        best_move = None\n",
    "        #print(\"Time at depth \",depth,\": \", time_left)\n",
    "        for move in game.get_active_moves():\n",
    "            _, eval = minimax(player, game.forecast_move(move)[0], time_left, depth - 1, my_turn = True)\n",
    "            if eval < best_cost:\n",
    "                best_cost = eval\n",
    "                best_move = move\n",
    "        return (best_move, best_cost)"
   ]
  },
  {
   "cell_type": "code",
   "execution_count": 12,
   "id": "890228d1",
   "metadata": {},
   "outputs": [],
   "source": [
    "def alphabeta(player, game, time_left, depth, alpha=float(\"-inf\"), beta=float(\"inf\"), my_turn=True):\n",
    "\n",
    "    if depth == 0 or len(game.get_active_moves()) == 0:\n",
    "        return (None, player.utility(game, my_turn))\n",
    "\n",
    "    if time_left() < 30: #Was 60 at 95pt submission \n",
    "        return (-1,-1), -100\n",
    "    \n",
    "    if my_turn:\n",
    "        best_score, best_move = float(\"-inf\"), None\n",
    "        for move in game.get_active_moves():\n",
    "            _, eval = alphabeta(player, game.forecast_move(move)[0], time_left, depth - 1, alpha, beta, my_turn = False)\n",
    "            if eval == -100:\n",
    "                return (-1,-1), -100\n",
    "            if eval > best_score:\n",
    "                best_score = eval\n",
    "                best_move = move\n",
    "            alpha = max(eval, alpha) \n",
    "            if beta <= alpha:\n",
    "                break\n",
    "        return (best_move, best_score)\n",
    "        \n",
    "    else: \n",
    "        best_score, best_move = float(\"inf\"), None\n",
    "        for move in game.get_active_moves():\n",
    "            _, eval = alphabeta(player, game.forecast_move(move)[0], time_left, depth - 1, alpha, beta, my_turn = True)\n",
    "            if eval < best_score:\n",
    "                best_score = eval\n",
    "                best_move = move\n",
    "            beta = min(eval, beta)\n",
    "            if beta <= alpha:\n",
    "                break\n",
    "        return (best_move, best_score)\n",
    "        \n",
    "    raise NotImplementedError"
   ]
  },
  {
   "cell_type": "code",
   "execution_count": 31,
   "id": "c683b534-01aa-41fc-a080-a9be192393d7",
   "metadata": {},
   "outputs": [],
   "source": [
    "def alphabeta2(player, game, time_left, depth, alpha=float(\"-inf\"), beta=float(\"inf\"), my_turn=True):\n",
    "\n",
    "    if depth == 0 or len(game.get_active_moves()) == 0:\n",
    "        return (None, player.utility(game, my_turn))\n",
    "\n",
    "    if time_left() < 30: #Was 60 at 95pt submission \n",
    "        return game.get_active_moves()[0]\n",
    "    \n",
    "    if my_turn:\n",
    "        best_score, best_move = float(\"-inf\"), None\n",
    "        for move in game.get_active_moves():\n",
    "            _, eval = alphabeta2(player, game.forecast_move(move)[0], time_left, depth - 1, alpha, beta, my_turn = False)\n",
    "            if eval == -100:\n",
    "                return (-1,-1), -100\n",
    "            if eval > best_score:\n",
    "                best_score = eval\n",
    "                best_move = move\n",
    "            alpha = max(eval, alpha) \n",
    "            if beta <= alpha:\n",
    "                break\n",
    "        return (best_move, best_score)\n",
    "        \n",
    "    else: \n",
    "        best_score, best_move = float(\"inf\"), None\n",
    "        for move in game.get_active_moves():\n",
    "            _, eval = alphabeta2(player, game.forecast_move(move)[0], time_left, depth - 1, alpha, beta, my_turn = True)\n",
    "            if eval < best_score:\n",
    "                best_score = eval\n",
    "                best_move = move\n",
    "            beta = min(eval, beta)\n",
    "            if beta <= alpha:\n",
    "                break\n",
    "        return (best_move, best_score)\n",
    "        \n",
    "    raise NotImplementedError"
   ]
  },
  {
   "cell_type": "markdown",
   "id": "d5b62f77-aea3-4a34-b5ef-3c805c43de99",
   "metadata": {},
   "source": [
    "## Level 1\n",
    "### Minimax algorithm with Max Tree Depth = 4"
   ]
  },
  {
   "cell_type": "code",
   "execution_count": 27,
   "id": "d5b9e52b-6cb6-4012-839c-c223d0226f9a",
   "metadata": {},
   "outputs": [
    {
     "data": {
      "application/vnd.jupyter.widget-view+json": {
       "model_id": "4f3ab8aceae54b59809e940b984a921e",
       "version_major": 2,
       "version_minor": 0
      },
      "text/plain": [
       "GridspecLayout(children=(Button(description=' ', layout=Layout(grid_area='widget001', height='auto', width='au…"
      ]
     },
     "metadata": {},
     "output_type": "display_data"
    }
   ],
   "source": [
    "ig1 = InteractiveGame(CustomPlayer1(), show_legal_moves=True)"
   ]
  },
  {
   "cell_type": "markdown",
   "id": "fb0d3ef2-fc3c-4aa3-a714-0a796870d60b",
   "metadata": {},
   "source": [
    "---\n",
    "  ## Level 2 \n",
    "  ### AlphaBeta pruning with Max Tree Depth = 6"
   ]
  },
  {
   "cell_type": "code",
   "execution_count": 36,
   "id": "91770212-5a0c-49f4-8e74-3400344469cf",
   "metadata": {},
   "outputs": [
    {
     "data": {
      "application/vnd.jupyter.widget-view+json": {
       "model_id": "0d6aa386533c4c39adfa64088e427111",
       "version_major": 2,
       "version_minor": 0
      },
      "text/plain": [
       "GridspecLayout(children=(Button(description=' ', layout=Layout(grid_area='widget001', height='auto', width='au…"
      ]
     },
     "metadata": {},
     "output_type": "display_data"
    }
   ],
   "source": [
    "ig2 = InteractiveGame(CustomPlayer2(), show_legal_moves=True)"
   ]
  },
  {
   "cell_type": "markdown",
   "id": "383e1768-dbc5-4f54-9abc-60813637994e",
   "metadata": {},
   "source": [
    "---\n",
    "  ## Level 3\n",
    "  ### Iterative Deepening + Alphabeta pruning + optimized evaluation function"
   ]
  },
  {
   "cell_type": "code",
   "execution_count": 30,
   "id": "cb378473-b6ed-41c9-8de8-c819f4953fd1",
   "metadata": {},
   "outputs": [
    {
     "data": {
      "application/vnd.jupyter.widget-view+json": {
       "model_id": "7872c4f5ef75425a96d3c3637925cf7a",
       "version_major": 2,
       "version_minor": 0
      },
      "text/plain": [
       "GridspecLayout(children=(Button(description=' ', layout=Layout(grid_area='widget001', height='auto', width='au…"
      ]
     },
     "metadata": {},
     "output_type": "display_data"
    }
   ],
   "source": [
    "ig3 = InteractiveGame(CustomPlayer(), show_legal_moves=True)"
   ]
  },
  {
   "cell_type": "code",
   "execution_count": null,
   "id": "afd09b47-8ed5-4209-94d1-631a492ea0d0",
   "metadata": {},
   "outputs": [],
   "source": []
  }
 ],
 "metadata": {
  "kernelspec": {
   "display_name": "Python 3 (ipykernel)",
   "language": "python",
   "name": "python3"
  },
  "language_info": {
   "codemirror_mode": {
    "name": "ipython",
    "version": 3
   },
   "file_extension": ".py",
   "mimetype": "text/x-python",
   "name": "python",
   "nbconvert_exporter": "python",
   "pygments_lexer": "ipython3",
   "version": "3.9.19"
  }
 },
 "nbformat": 4,
 "nbformat_minor": 5
}
